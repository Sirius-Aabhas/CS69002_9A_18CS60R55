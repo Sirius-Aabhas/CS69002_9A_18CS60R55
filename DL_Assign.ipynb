{
  "nbformat": 4,
  "nbformat_minor": 0,
  "metadata": {
    "colab": {
      "name": "Untitled0.ipynb",
      "version": "0.3.2",
      "provenance": [],
      "toc_visible": true,
      "include_colab_link": true
    },
    "kernelspec": {
      "name": "python3",
      "display_name": "Python 3"
    },
    "accelerator": "GPU"
  },
  "cells": [
    {
      "cell_type": "markdown",
      "metadata": {
        "id": "view-in-github",
        "colab_type": "text"
      },
      "source": [
        "<a href=\"https://colab.research.google.com/github/Sirius-Aabhas/CS69002_9A_18CS60R55/blob/master/DL_Assign.ipynb\" target=\"_parent\"><img src=\"https://colab.research.google.com/assets/colab-badge.svg\" alt=\"Open In Colab\"/></a>"
      ]
    },
    {
      "metadata": {
        "id": "bRuGSGqnMOXz",
        "colab_type": "code",
        "colab": {}
      },
      "cell_type": "code",
      "source": [
        "import torch\n",
        "import pandas as pd\n",
        "import numpy as np\n",
        "import torch.nn as nn\n",
        "import torch.nn.functional as F\n",
        "from torch.autograd import Variable\n",
        "import time\n",
        "SEED = 42\n",
        "\n",
        "torch.manual_seed(SEED)\n",
        "torch.cuda.manual_seed(SEED)\n",
        "device = torch.device('cuda:0')\n",
        "device"
      ],
      "execution_count": 0,
      "outputs": []
    },
    {
      "metadata": {
        "id": "ijrEth3MRQ6K",
        "colab_type": "text"
      },
      "cell_type": "markdown",
      "source": [
        "##Fetching data"
      ]
    },
    {
      "metadata": {
        "id": "J5ITVAYmiy5H",
        "colab_type": "code",
        "colab": {}
      },
      "cell_type": "code",
      "source": [
        "from google.colab import files\n",
        "import io\n",
        "uploaded = files.upload()"
      ],
      "execution_count": 0,
      "outputs": []
    },
    {
      "metadata": {
        "id": "fQLFDGIQjrh-",
        "colab_type": "code",
        "colab": {}
      },
      "cell_type": "code",
      "source": [
        "type(uploaded), uploaded.keys(), type(uploaded['Train_20K.csv'])\n"
      ],
      "execution_count": 0,
      "outputs": []
    },
    {
      "metadata": {
        "id": "o7sqK9HKoGzv",
        "colab_type": "code",
        "colab": {}
      },
      "cell_type": "code",
      "source": [
        "df = pd.read_csv(io.StringIO(uploaded['Train_20K.csv'].decode('utf-8')), sep='\\t')\n",
        "df.head()"
      ],
      "execution_count": 0,
      "outputs": []
    },
    {
      "metadata": {
        "id": "x3VpG5_h1oKL",
        "colab_type": "text"
      },
      "cell_type": "markdown",
      "source": [
        "##Fetching data for now"
      ]
    },
    {
      "metadata": {
        "id": "pHXKubc019hc",
        "colab_type": "code",
        "outputId": "3fd1d98d-d460-44ef-d08f-1291c84b9ee0",
        "colab": {
          "base_uri": "https://localhost:8080/",
          "height": 195
        }
      },
      "cell_type": "code",
      "source": [
        "df = pd.read_csv('Train_20K.csv', sep='\\t')\n",
        "df.head()"
      ],
      "execution_count": 2,
      "outputs": [
        {
          "output_type": "execute_result",
          "data": {
            "text/html": [
              "<div>\n",
              "<style scoped>\n",
              "    .dataframe tbody tr th:only-of-type {\n",
              "        vertical-align: middle;\n",
              "    }\n",
              "\n",
              "    .dataframe tbody tr th {\n",
              "        vertical-align: top;\n",
              "    }\n",
              "\n",
              "    .dataframe thead th {\n",
              "        text-align: right;\n",
              "    }\n",
              "</style>\n",
              "<table border=\"1\" class=\"dataframe\">\n",
              "  <thead>\n",
              "    <tr style=\"text-align: right;\">\n",
              "      <th></th>\n",
              "      <th>text</th>\n",
              "      <th>label</th>\n",
              "    </tr>\n",
              "  </thead>\n",
              "  <tbody>\n",
              "    <tr>\n",
              "      <th>0</th>\n",
              "      <td>John Waters has given us a genuinely enjoyable...</td>\n",
              "      <td>1</td>\n",
              "    </tr>\n",
              "    <tr>\n",
              "      <th>1</th>\n",
              "      <td>This first two seasons of this comedy series w...</td>\n",
              "      <td>1</td>\n",
              "    </tr>\n",
              "    <tr>\n",
              "      <th>2</th>\n",
              "      <td>What an unfortunate mess is \"Shiner.\" I wanted...</td>\n",
              "      <td>0</td>\n",
              "    </tr>\n",
              "    <tr>\n",
              "      <th>3</th>\n",
              "      <td>I'm not entirely sure Rob Schmidt qualifies as...</td>\n",
              "      <td>1</td>\n",
              "    </tr>\n",
              "    <tr>\n",
              "      <th>4</th>\n",
              "      <td>i wasn't sure whether to laugh or cry. Porrett...</td>\n",
              "      <td>0</td>\n",
              "    </tr>\n",
              "  </tbody>\n",
              "</table>\n",
              "</div>"
            ],
            "text/plain": [
              "                                                text  label\n",
              "0  John Waters has given us a genuinely enjoyable...      1\n",
              "1  This first two seasons of this comedy series w...      1\n",
              "2  What an unfortunate mess is \"Shiner.\" I wanted...      0\n",
              "3  I'm not entirely sure Rob Schmidt qualifies as...      1\n",
              "4  i wasn't sure whether to laugh or cry. Porrett...      0"
            ]
          },
          "metadata": {
            "tags": []
          },
          "execution_count": 2
        }
      ]
    },
    {
      "metadata": {
        "id": "Gpv07aqq0wJX",
        "colab_type": "code",
        "outputId": "e04a66c9-c6da-4862-c718-2a018e437baf",
        "colab": {
          "base_uri": "https://localhost:8080/",
          "height": 195
        }
      },
      "cell_type": "code",
      "source": [
        "df_test = pd.read_csv('Test_5K.csv', sep='\\t')\n",
        "df_test.head()"
      ],
      "execution_count": 3,
      "outputs": [
        {
          "output_type": "execute_result",
          "data": {
            "text/html": [
              "<div>\n",
              "<style scoped>\n",
              "    .dataframe tbody tr th:only-of-type {\n",
              "        vertical-align: middle;\n",
              "    }\n",
              "\n",
              "    .dataframe tbody tr th {\n",
              "        vertical-align: top;\n",
              "    }\n",
              "\n",
              "    .dataframe thead th {\n",
              "        text-align: right;\n",
              "    }\n",
              "</style>\n",
              "<table border=\"1\" class=\"dataframe\">\n",
              "  <thead>\n",
              "    <tr style=\"text-align: right;\">\n",
              "      <th></th>\n",
              "      <th>text</th>\n",
              "      <th>label</th>\n",
              "    </tr>\n",
              "  </thead>\n",
              "  <tbody>\n",
              "    <tr>\n",
              "      <th>0</th>\n",
              "      <td>as always this is an inaccurate picture of the...</td>\n",
              "      <td>0</td>\n",
              "    </tr>\n",
              "    <tr>\n",
              "      <th>1</th>\n",
              "      <td>Did the movie-makers even preview this before ...</td>\n",
              "      <td>0</td>\n",
              "    </tr>\n",
              "    <tr>\n",
              "      <th>2</th>\n",
              "      <td>Heavily re-edited and often confusing, the ori...</td>\n",
              "      <td>0</td>\n",
              "    </tr>\n",
              "    <tr>\n",
              "      <th>3</th>\n",
              "      <td>I notice that most of the people who think thi...</td>\n",
              "      <td>0</td>\n",
              "    </tr>\n",
              "    <tr>\n",
              "      <th>4</th>\n",
              "      <td>First of all, this is a low-budget movie, so m...</td>\n",
              "      <td>0</td>\n",
              "    </tr>\n",
              "  </tbody>\n",
              "</table>\n",
              "</div>"
            ],
            "text/plain": [
              "                                                text  label\n",
              "0  as always this is an inaccurate picture of the...      0\n",
              "1  Did the movie-makers even preview this before ...      0\n",
              "2  Heavily re-edited and often confusing, the ori...      0\n",
              "3  I notice that most of the people who think thi...      0\n",
              "4  First of all, this is a low-budget movie, so m...      0"
            ]
          },
          "metadata": {
            "tags": []
          },
          "execution_count": 3
        }
      ]
    },
    {
      "metadata": {
        "id": "zvXSxRtMNw8U",
        "colab_type": "code",
        "outputId": "ccc5e7bc-f945-4c17-d624-bb9bb201f6b5",
        "colab": {
          "base_uri": "https://localhost:8080/",
          "height": 50
        }
      },
      "cell_type": "code",
      "source": [
        "print('Number of Negative movie reviews', len(df[df['label']==0]))\n",
        "print('Number of Positive movie reviews', len(df[df['label']==1]))"
      ],
      "execution_count": 4,
      "outputs": [
        {
          "output_type": "stream",
          "text": [
            "Number of Negative movie reviews 8994\n",
            "Number of Positive movie reviews 9005\n"
          ],
          "name": "stdout"
        }
      ]
    },
    {
      "metadata": {
        "id": "_rbQhm8mQ7BN",
        "colab_type": "code",
        "outputId": "f3ffcfd4-520e-4bad-eeae-b8711b7e9ff5",
        "colab": {
          "base_uri": "https://localhost:8080/",
          "height": 70
        }
      },
      "cell_type": "code",
      "source": [
        "text_reviews = df['text'].astype(str).tolist()\n",
        "text_labels = df['label'].astype(int)\n",
        "\n",
        "text_reviews = [x.lower() for x in text_reviews]\n",
        "print(text_reviews[0], text_labels[0])\n",
        "print(len(text_reviews), len(text_labels))"
      ],
      "execution_count": 5,
      "outputs": [
        {
          "output_type": "stream",
          "text": [
            "john waters has given us a genuinely enjoyable film. this certainly isn't without its shocking waters-esque moments, but it is tamer than his older culty stuff, such as \"pink flamingoes\". \"pecker\" harkens back to john's early mainstream stage in that it reminds the viewer of the same kind of humor that was evident in \"polyester\". overall, a really fun comedy with some great moments! 1\n",
            "17999 17999\n"
          ],
          "name": "stdout"
        }
      ]
    },
    {
      "metadata": {
        "id": "tOgBzlyA2znw",
        "colab_type": "code",
        "outputId": "65b0eb68-f393-47c3-fa5b-553c0fb5c57b",
        "colab": {
          "base_uri": "https://localhost:8080/",
          "height": 205
        }
      },
      "cell_type": "code",
      "source": [
        "data = [(text_reviews[i], text_labels[i])for i in range(len(text_labels))]\n",
        "data[:5]"
      ],
      "execution_count": 6,
      "outputs": [
        {
          "output_type": "execute_result",
          "data": {
            "text/plain": [
              "[('john waters has given us a genuinely enjoyable film. this certainly isn\\'t without its shocking waters-esque moments, but it is tamer than his older culty stuff, such as \"pink flamingoes\". \"pecker\" harkens back to john\\'s early mainstream stage in that it reminds the viewer of the same kind of humor that was evident in \"polyester\". overall, a really fun comedy with some great moments!',\n",
              "  1),\n",
              " (\"this first two seasons of this comedy series were very strange and they weren't very funny and had a drama element where bill (the mother) was struggling with all the usual problems in life but that element was a bit depressing and didn't mix well with th comedy elements which is probably why it was dropped. after that it soon became one of the funniest comedy series the bbc have ever made! the chemistry between bill and ben's character's were very funny and there was always so many brilliant and memorable sketches in each series. the christmas specials were hilarious and a real treat for christmas. <br /><br />the show came to a stop when the main actor gary olsen playing bill passed away which was very sad because he was a brilliant actor in films such as up 'n' under and a very funny man rip<br /><br />this underrated show has sadly disappeared from our television screens and doesn't to be repeated that often - though it does appear on uktv gold once in a while but it should be repeated on bbc one or two to show this brilliant comedy to a new audience\",\n",
              "  1),\n",
              " ('what an unfortunate mess is \"shiner.\" i wanted to like this over-the-top, anti-film aspirant, and in fact found a number of moments with powerful resonance. sadly, those moments are few and far between. while i appreciate some of what calson was attempting, any advantage aspired to by bare bones, no budget cinematography was destroyed with some truly atrocious editing that benefited the movie not at all.<br /><br />while bad acting abounds in low budget (and big budget) cinema, shiner has some remarkably bad performances that are nearly painful to watch. in particular the \"straight\" couple linda and young guy. these are the two most poorly written characters offering almost nothing to the story. the acting is so abysmal and neither actor seems capable of resisting smirking or cracking up as they drearily drop their lines with an appalling lack of skill. the choppy editing almost lends the feeling that these roles were entirely gratuitous and dropped in to avoid the films being stereotypically cast as an oddball gay film. it would have been better off as such.<br /><br />with all that is going wrong for it, there are several performances that seem to capture what calson was hoping to get. in particular the story centering on bob and tim. these are the two most richly drawn characters and offer the most rewards with genuinely captivating performances by nicholas t. king (bob) and david zelinas (tim). tim is a boxer with some serious issues. remarkably low self esteem is disguised by an almost cartoon like arrogance that he wears like armour plating. obsessed with tim, the seemingly harmless yet ultimately creepy bob, stalks the boxer in classic cat-and-mouse fashion. when the tables are turned and hunter becomes the hunted, the resulting in the film\\'s only genuine emotional catharsis. in a film so artificially hard-edged (that\\'s a compliment) one character must have that revelatory break through (or breakdown, as the case proves here) and the final confrontation between bob and tim provide zelinas and king opportunity to display some real acting chops.<br /><br />as played by scott stepp and derris nile, tony and danny seem to be the focus of the movie, and despite some bravado moments of their own (including one truly disturbing scene revealing the sex/violence obsession), but they can\\'t seem to escape a cartoon-like artifice and it\\'s difficult to look at - or beyond their seeming one note symphony and find anything other than the obvious.<br /><br />ultimately this same raw material could (and should) be used to tell this story in better fashion. alas, there really isn\\'t much to recommend this yet, the performances by messrs. king and zelinas, really do offer something special and a glimpse of what might have been and are ultimately worth seeing.',\n",
              "  0),\n",
              " ('i\\'m not entirely sure rob schmidt qualifies as a \"master\" in the genre of horror, since he previously just directed one horror film called \"wrong turn\" and that one was actually just was slightly above mediocre, but fact is that he made with \"right to die\" one of the best and creepiest episodes of the entire second season of the \"masters of horror\" franchise. there was a similar underdog story in season one, when william malone made on of the best episodes with \"the fair haired child\" even though his other long feature films \"fear dot com\" and \"house on haunted hill\" sucked pretty badly.<br /><br />the story of \"right to die\" cleverly picks in on the nowadays piping hot social debate of euthanasia, but thankfully also features multiple old-fashioned horror themes like ghostly vengeance, murderous conspiracies, pitch black humor and comic book styled violence. whilst driving home late one night and discussing the husband\\'s continuous adultery, the addison couple are involved in a terrible car accident. cliff walks away from the wreck unharmed but his wife abby is fully burned and needs to be kept alive artificially. whilst cliff and his sleazy attorney (corbin bernsen of \"the dentist\") want to plug the plug on her and sue the car constructor, abbey\\'s mum sets up a giant media campaign to keep her daughter alive as a vegetable and blame everything on cliff. meanwhile abbey\\'s hateful spirit comes back for revenge and kills someone in cliff\\'s surrounding whenever she has a near fatal experience with the medical devices. after a few victims, cliff realizes it might be safer for him to keep his wife alive if he wants to remain alive as well. \"right to die\" is a stupendous episode and exactly the type of stuff i always hoped to see from a tv-series concept like \"masters of horror\". it\\'s violent and gory with a sick & twisted sense of humor and loads of sleaze sequences. the euthanasia theme and the whole obligatory media circus that surrounds it is processed into the script very well, yet without unnecessarily reverting to political standpoints or morality lessons. the atmosphere is suspenseful and the killing sequences are suitably nasty and unsettling. actresses julia anderson and robin sydney both have pretty face and impressively voluptuous racks, which is always a welcome plus, and corbin bernsen is finally offered the chance again to depict a mean-spirited and egocentric bastard. great \"moh\" episode; definitely one of the highlights of both seasons.',\n",
              "  1),\n",
              " (\"i wasn't sure whether to laugh or cry. porretta was good looking but resembled like a mexican porn star not an english outlaw. costumes? what costumes? a t-shirt with strips of black leather on it. it was marion's clothes--or lack of them--that really got me. do the 'fans' of this stinker really believe women dressed like that in medieval england. the mongols and vikings were inaccurate and stupid, but the episode with an alien was worst of all. especially as his make up mainly consisted of oatmeal on his face--an old trick.the hedgehog monster was pretty funny, as was climbing up the side of a castle on a ladder of arrows--as if. the us accents grated as did the initial drawling voice over' raw-bin hood and liddle john'.the second robin and marion were really quite minging in looks and what was left of the show went totally down the pan...\",\n",
              "  0)]"
            ]
          },
          "metadata": {
            "tags": []
          },
          "execution_count": 6
        }
      ]
    },
    {
      "metadata": {
        "id": "0V2GnN9Z6Yj4",
        "colab_type": "code",
        "colab": {}
      },
      "cell_type": "code",
      "source": [
        "from google.colab import files\n",
        "import io\n",
        "uploaded = files.upload()"
      ],
      "execution_count": 0,
      "outputs": []
    },
    {
      "metadata": {
        "id": "gwEQFKUT6cc8",
        "colab_type": "code",
        "colab": {}
      },
      "cell_type": "code",
      "source": [
        "type(uploaded), uploaded.keys(), type(uploaded['Test_5K.csv'])"
      ],
      "execution_count": 0,
      "outputs": []
    },
    {
      "metadata": {
        "id": "Qs2rHjSN6k2b",
        "colab_type": "code",
        "colab": {}
      },
      "cell_type": "code",
      "source": [
        "df_test = pd.read_csv(io.StringIO(uploaded['Test_5K.csv'].decode('utf-8')), sep='\\t')\n",
        "df_test.head()"
      ],
      "execution_count": 0,
      "outputs": []
    },
    {
      "metadata": {
        "id": "LTk26HxZ6qjj",
        "colab_type": "code",
        "outputId": "86496b6f-637f-4ab7-de18-9e48b38a565e",
        "colab": {
          "base_uri": "https://localhost:8080/",
          "height": 50
        }
      },
      "cell_type": "code",
      "source": [
        "print('Number of Negative movie reviews', len(df_test[df_test['label']==0]))\n",
        "print('Number of Positive movie reviews', len(df_test[df_test['label']==1]))"
      ],
      "execution_count": 7,
      "outputs": [
        {
          "output_type": "stream",
          "text": [
            "Number of Negative movie reviews 2482\n",
            "Number of Positive movie reviews 2518\n"
          ],
          "name": "stdout"
        }
      ]
    },
    {
      "metadata": {
        "id": "qirQBcpl60vS",
        "colab_type": "code",
        "outputId": "6b27892b-9110-45a2-b718-5a0d3ffb7cc1",
        "colab": {
          "base_uri": "https://localhost:8080/",
          "height": 70
        }
      },
      "cell_type": "code",
      "source": [
        "text_reviews_test = df_test['text'].astype(str).tolist()\n",
        "text_labels_test = df_test['label'].astype(int)\n",
        "\n",
        "text_reviews_test = [x.lower() for x in text_reviews_test]\n",
        "print(text_reviews_test[0], text_labels_test[0])\n",
        "print(len(text_reviews_test), len(text_labels_test))"
      ],
      "execution_count": 8,
      "outputs": [
        {
          "output_type": "stream",
          "text": [
            "as always this is an inaccurate picture of the homeless. tv told a lot of lies about panhandlers in the early 1990s and made everyone look bad, and claimed we all made over $100 a day when $20-40 a day was much closer to reality. when someone drove by where i held up a sign offering to work, and offered me work, i actually went and took the work if i was physically able.and if i would been offered the $100,000 id damned sure invested in in apt prepaid for at least 2 years, and kept most in the bank and still left myself $10-20000 for nl $1-2 and $2-5 cash games at the casinos. i usually always win and could win decent if i just had a bankroll. instead i win about $1000 a month is all playing in always minimum buying in due to not wanting to risk losing it all. i was only homeless cause i didn't wanna risk spending all my money and going broke, sometimes i had over $1000-2000 in my sock while i slept outside. anyone wanting to talk contact sevencard2003 on yahoo messenger.i admit i was different than most homeless people though, due to the fact i never drank smoke or took drugs. im no longer homeless, am now in govt housing for $177 a month and getting ssi and spend most of my time winning at online poker. mom and sunflower diversified worked hard to get me ssi. glad my days of hiding in under the stage in the convention center of the casino at night sleeping, worrying about getting caught by security are finally over. had this tv crew picked me theyd been over a lot sooner. its a shame how they don't better select who they pick. 0\n",
            "5000 5000\n"
          ],
          "name": "stdout"
        }
      ]
    },
    {
      "metadata": {
        "colab_type": "code",
        "id": "89gIvwYSx_MJ",
        "outputId": "4b1c6f5f-010e-492a-f839-5b1df893110c",
        "colab": {
          "base_uri": "https://localhost:8080/",
          "height": 205
        }
      },
      "cell_type": "code",
      "source": [
        "data_test = [(text_reviews_test[i], text_labels_test[i])for i in range(len(text_labels_test))]\n",
        "data_test[:5]"
      ],
      "execution_count": 9,
      "outputs": [
        {
          "output_type": "execute_result",
          "data": {
            "text/plain": [
              "[(\"as always this is an inaccurate picture of the homeless. tv told a lot of lies about panhandlers in the early 1990s and made everyone look bad, and claimed we all made over $100 a day when $20-40 a day was much closer to reality. when someone drove by where i held up a sign offering to work, and offered me work, i actually went and took the work if i was physically able.and if i would been offered the $100,000 id damned sure invested in in apt prepaid for at least 2 years, and kept most in the bank and still left myself $10-20000 for nl $1-2 and $2-5 cash games at the casinos. i usually always win and could win decent if i just had a bankroll. instead i win about $1000 a month is all playing in always minimum buying in due to not wanting to risk losing it all. i was only homeless cause i didn't wanna risk spending all my money and going broke, sometimes i had over $1000-2000 in my sock while i slept outside. anyone wanting to talk contact sevencard2003 on yahoo messenger.i admit i was different than most homeless people though, due to the fact i never drank smoke or took drugs. im no longer homeless, am now in govt housing for $177 a month and getting ssi and spend most of my time winning at online poker. mom and sunflower diversified worked hard to get me ssi. glad my days of hiding in under the stage in the convention center of the casino at night sleeping, worrying about getting caught by security are finally over. had this tv crew picked me theyd been over a lot sooner. its a shame how they don't better select who they pick.\",\n",
              "  0),\n",
              " ('did the movie-makers even preview this before they released it? the script jumps from place to place without giving much explanation. the beginning doesn\\'t clarify if its a prequel or not. it starts with superman\\'s beginnings on earth and then jumps to a point after the last movie - but doesn\\'t really alert the viewer of this. very confusing! superman himself is weak and in need of prozac. he is portrayed as a potential home-wrecker, a stalker, and someone who is clearly depressed and confused. this type of character rarely makes for an interesting hero. the ending is absolutely ridiculous. superman ending up in a hospital just made me want to kill him off myself. i\\'m seriously waiting for a snl skit where superman appears on maury povich and maury says, \"the results are in - in the case of the child, superman, you are the father.\" to sum up - ok acting by this superman and kevin spacey, but horrible script. the movie is basically unwatchable.',\n",
              "  0),\n",
              " (\"heavily re-edited and often confusing, the original screen version of man on fire was at least ten years out of date when it was made and the passing years haven't made it any better. this is the kind of movie that producers with too much money and too little experience make to get attention and everyone else does just to pay off their outstanding alimony or their drug dealer, with scott glenn's bodyguard going out on a limb to rescue his 12-year-old charge, the kidnapped daughter of a wealthy italian family. an interesting cast - joe pesci, brooke adams, danny aiello, jonathan pryce - have all done better, the action is sluggish and sparse and only john scott's exceptionally fine score (part of which turned up in the last reel of die hard) makes a positive impression. one case where the remake (made by tony scott, the original choice of director for this version) is an improvement.\",\n",
              "  0),\n",
              " ('i notice that most of the people who think this film speaks the truth were either not born before the moon landings (1969-1972), or not old enough to appreciate them. i think it is much easier to question an historic event if you did not live through it.<br /><br />i was a youngster at the time of apollo, but i was old enough to understand what was going on. the entire world followed the moon landings. our families gathered around the tv to watch the launch. newspaper headlines screamed the latest goings-on each day, from launch to landing, from moonwalks to moon liftoff, all the way to splashdown, in a multitude of languages. in school, some classes were cancelled so we could watch the main events on tv. during apollo 13 the world prayed and held its collective breath as the men limped home to an uncertain fate. you couldn\\'t go anywhere without someone asking what the latest was. the world was truly one community. <br /><br />now with a buffer of 30-odd years after the fact, it is easy to claim fraud because worldwide enthusiasm and interest has died down. we are left with our history books, and anybody can claim that history is wrong and attempt to \"prove\" it with a bunch of lies and made-up facts while completely ignoring the preponderance of evidence showing otherwise--not to mention the proof that dwells in the souls and memories of those who lived through these wonderfully heady and fantastic days.',\n",
              "  0),\n",
              " ('first of all, this is a low-budget movie, so my expectations were incredibly low going into it. i assume most people looking at the info for this movie just wanted a bloodfest, and essentially that\\'s all it is.<br /><br />plot? there really is none. it\\'s basically saw but in china and a whole hell of a lot worse. cast? there is none, period. special effects? absolutely awful in my opinion... there were cutaways and the blood was often completely unbelievable because of amounts, splatter, color, texture, etc.<br /><br />i believe the purpose of this movie was supposed to be a brutal, shock film. now it had some great potential on a bigger budget but poor scripting, poor dialogue, awful acting, what seemed like camcorder video shots, and just plain unbelievable \"gore,\" made this movie truly awful.<br /><br />there are movies worth taking a chance against some reviews, even \"b-rate\" movies deserve some opportunities (blood trails for example was the most recent i saw against reviews that was worth it), but this was simply awful. i hope that people considering this movie read my comment and decide against it.<br /><br />i\\'m all for brutality and shock, but the overall unrealism and truly awful acting makes for an awful experience. save your time/money and chance something else, you won\\'t be disappointed.',\n",
              "  0)]"
            ]
          },
          "metadata": {
            "tags": []
          },
          "execution_count": 9
        }
      ]
    },
    {
      "metadata": {
        "id": "zydP-RKS0GgB",
        "colab_type": "text"
      },
      "cell_type": "markdown",
      "source": [
        "## Creating Bag Of Word (BOW) representation of sentences."
      ]
    },
    {
      "metadata": {
        "id": "COY4uTBU2OSj",
        "colab_type": "code",
        "colab": {}
      },
      "cell_type": "code",
      "source": [
        "def generate_word_ids(dataset):\n",
        "    word_to_ix = {}\n",
        "    #print(dataset)\n",
        "    for sent in dataset:\n",
        "        for word in sent.split():\n",
        "            if word not in word_to_ix:\n",
        "                word_to_ix[word] = len(word_to_ix)\n",
        "    return word_to_ix"
      ],
      "execution_count": 0,
      "outputs": []
    },
    {
      "metadata": {
        "id": "AXGW8ypdRXsQ",
        "colab_type": "code",
        "outputId": "7251c6c7-aad2-4131-c453-cb4c2ef5eb3e",
        "colab": {
          "base_uri": "https://localhost:8080/",
          "height": 34
        }
      },
      "cell_type": "code",
      "source": [
        "word_to_ix = generate_word_ids(text_reviews + text_reviews_test)\n",
        "VOCAB_SIZE = len(word_to_ix)\n",
        "VOCAB_SIZE"
      ],
      "execution_count": 23,
      "outputs": [
        {
          "output_type": "execute_result",
          "data": {
            "text/plain": [
              "239036"
            ]
          },
          "metadata": {
            "tags": []
          },
          "execution_count": 23
        }
      ]
    },
    {
      "metadata": {
        "id": "Bd_AuK5Xy679",
        "colab_type": "code",
        "colab": {}
      },
      "cell_type": "code",
      "source": [
        "def make_bow_vector(sentence, word_to_ix):\n",
        "    # create a vector of zeros of vocab size = len(word_to_idx)\n",
        "    vec = torch.zeros(len(word_to_ix))\n",
        "    for word in sentence.split():\n",
        "        if word not in word_to_ix:\n",
        "            raise ValueError('Word',word,' not present in the dictionary. Sorry!')\n",
        "        else:\n",
        "            vec[word_to_ix[word]]+=1\n",
        "    return vec.view(1, -1)\n",
        "\n",
        "def make_target(label):\n",
        "    return torch.LongTensor([label])\n"
      ],
      "execution_count": 0,
      "outputs": []
    },
    {
      "metadata": {
        "id": "A8jOfEzAXgMY",
        "colab_type": "code",
        "colab": {
          "base_uri": "https://localhost:8080/",
          "height": 67
        },
        "outputId": "2deb322f-b658-40ea-9a1b-fb1469b929ad"
      },
      "cell_type": "code",
      "source": [
        "a = torch.ones(1,10)\n",
        "b = torch.ones(1,10)\n",
        "a = torch.cat((a,b))\n",
        "d = torch.ones(1,10)\n",
        "torch.cat((a,d))\n"
      ],
      "execution_count": 17,
      "outputs": [
        {
          "output_type": "execute_result",
          "data": {
            "text/plain": [
              "tensor([[1., 1., 1., 1., 1., 1., 1., 1., 1., 1.],\n",
              "        [1., 1., 1., 1., 1., 1., 1., 1., 1., 1.],\n",
              "        [1., 1., 1., 1., 1., 1., 1., 1., 1., 1.]])"
            ]
          },
          "metadata": {
            "tags": []
          },
          "execution_count": 17
        }
      ]
    },
    {
      "metadata": {
        "id": "n7XiuOLoWQlh",
        "colab_type": "code",
        "colab": {
          "base_uri": "https://localhost:8080/",
          "height": 104
        },
        "outputId": "8729c49e-a785-4429-a9ae-41006241bd0e"
      },
      "cell_type": "code",
      "source": [
        "import torch.utils.data as data_utils\n",
        "\n",
        "features = torch.tensor(make_bow_vector(text_reviews[0], word_to_ix))\n",
        "for i in range(1,len(text_reviews)):\n",
        "    vec = make_bow_vector(text_reviews[i], word_to_ix)\n",
        "    vec_tensor = torch.tensor(vec)\n",
        "    features = torch.cat((features,vec_tensor))\n",
        "\n",
        "targets = torch.tensor(text_labels, dtype=torch.int)\n",
        "\n",
        "print(features.shape)\n",
        "print(targets.shape)\n",
        "train = data_utils.TensorDataset(features, targets)\n",
        "train_loader = data_utils.DataLoader(train, batch_size=50, shuffle=True)"
      ],
      "execution_count": 0,
      "outputs": [
        {
          "output_type": "stream",
          "text": [
            "/usr/local/lib/python3.6/dist-packages/ipykernel_launcher.py:3: UserWarning: To copy construct from a tensor, it is recommended to use sourceTensor.clone().detach() or sourceTensor.clone().detach().requires_grad_(True), rather than torch.tensor(sourceTensor).\n",
            "  This is separate from the ipykernel package so we can avoid doing imports until\n",
            "/usr/local/lib/python3.6/dist-packages/ipykernel_launcher.py:6: UserWarning: To copy construct from a tensor, it is recommended to use sourceTensor.clone().detach() or sourceTensor.clone().detach().requires_grad_(True), rather than torch.tensor(sourceTensor).\n",
            "  \n"
          ],
          "name": "stderr"
        }
      ]
    },
    {
      "metadata": {
        "id": "B2BNlqrAJleH",
        "colab_type": "text"
      },
      "cell_type": "markdown",
      "source": [
        "##Task1"
      ]
    },
    {
      "metadata": {
        "id": "m9i8PVtgz0NS",
        "colab_type": "code",
        "colab": {}
      },
      "cell_type": "code",
      "source": [
        "class Model1A(nn.Module):\n",
        "    def __init__(self, vocab_size):\n",
        "        super(Model1A, self).__init__()\n",
        "        self.lin1 = nn.Linear(vocab_size, 50)\n",
        "        self.lin2 = nn.Linear(50, 2)\n",
        "\n",
        "    def forward(self, x):\n",
        "        x = F.sigmoid(self.lin1(x))\n",
        "        return F.softmax(self.lin2(x))"
      ],
      "execution_count": 0,
      "outputs": []
    },
    {
      "metadata": {
        "id": "xu-8rq-AJj0K",
        "colab_type": "code",
        "colab": {}
      },
      "cell_type": "code",
      "source": [
        "class Model1B(nn.Module):\n",
        "    def __init__(self, vocab_size):\n",
        "        super(Model1B, self).__init__()\n",
        "        self.lin1 = nn.Linear(vocab_size, 50)\n",
        "        self.lin2 = nn.Linear(50, 2)\n",
        "\n",
        "    def forward(self, x):\n",
        "        x = F.sigmoid(self.lin1(x))\n",
        "        return F.softmax(self.lin2(x))"
      ],
      "execution_count": 0,
      "outputs": []
    },
    {
      "metadata": {
        "id": "Y3EY8WlEKQKE",
        "colab_type": "code",
        "colab": {}
      },
      "cell_type": "code",
      "source": [
        "class Model1C(nn.Module):\n",
        "    def __init__(self, vocab_size):\n",
        "        super(Model1C, self).__init__()\n",
        "        self.lin1 = nn.Linear(vocab_size, 50)\n",
        "        self.lin2 = nn.Linear(50, 2)\n",
        "\n",
        "    def forward(self, x):\n",
        "        x = F.sigmoid(self.lin1(x))\n",
        "        return F.softmax(self.lin2(x))"
      ],
      "execution_count": 0,
      "outputs": []
    },
    {
      "metadata": {
        "id": "44ZSyECsKSpZ",
        "colab_type": "code",
        "colab": {}
      },
      "cell_type": "code",
      "source": [
        "class Model1D(nn.Module):\n",
        "    def __init__(self, vocab_size):\n",
        "        super(Model1D, self).__init__()\n",
        "        self.lin1 = nn.Linear(vocab_size, 50)\n",
        "        self.lin2 = nn.Linear(50, 2)\n",
        "\n",
        "    def forward(self, x):\n",
        "        x = F.sigmoid(self.lin1(x))\n",
        "        return F.softmax(self.lin2(x))"
      ],
      "execution_count": 0,
      "outputs": []
    },
    {
      "metadata": {
        "id": "aboTbOIuyVd2",
        "colab_type": "code",
        "colab": {}
      },
      "cell_type": "code",
      "source": [
        "model1A = Model1A(VOCAB_SIZE)\n",
        "model1B = Model1B(VOCAB_SIZE)\n",
        "model1C = Model1C(VOCAB_SIZE)\n",
        "model1D = Model1D(VOCAB_SIZE)"
      ],
      "execution_count": 0,
      "outputs": []
    },
    {
      "metadata": {
        "id": "qJgvIuflzD7S",
        "colab_type": "code",
        "outputId": "de9435cc-9f76-4cd9-8b88-403e620519ab",
        "colab": {
          "base_uri": "https://localhost:8080/",
          "height": 739
        }
      },
      "cell_type": "code",
      "source": [
        "for param in model1B.parameters():\n",
        "    print(param,param.size())"
      ],
      "execution_count": 0,
      "outputs": [
        {
          "output_type": "stream",
          "text": [
            "Parameter containing:\n",
            "tensor([[-8.5557e-04,  9.8191e-04,  1.5383e-03,  ...,  2.1401e-04,\n",
            "         -1.2505e-03, -1.2147e-03],\n",
            "        [ 7.9122e-04, -1.6420e-03,  3.8738e-04,  ..., -1.5483e-03,\n",
            "          2.7893e-04,  1.2792e-03],\n",
            "        [-7.6434e-04,  1.1936e-03,  1.6871e-04,  ..., -2.6655e-04,\n",
            "          1.2055e-03,  1.5428e-03],\n",
            "        ...,\n",
            "        [ 8.4438e-04, -8.1657e-04,  1.4277e-03,  ...,  5.8581e-04,\n",
            "          6.7141e-04,  1.1260e-03],\n",
            "        [ 1.4046e-03,  1.5548e-03, -1.1767e-04,  ..., -1.8034e-03,\n",
            "         -2.2825e-04,  5.4721e-04],\n",
            "        [-1.9846e-03, -1.4798e-03, -9.1453e-05,  ...,  2.1273e-05,\n",
            "          1.6619e-03, -7.0732e-06]], requires_grad=True) torch.Size([50, 239036])\n",
            "Parameter containing:\n",
            "tensor([ 4.6513e-04,  6.2723e-04, -1.7822e-03, -3.8633e-04,  1.7975e-03,\n",
            "        -1.9714e-03, -1.6426e-03,  1.3768e-03, -5.4018e-04, -1.4085e-03,\n",
            "        -1.6840e-03, -4.3722e-04,  1.1185e-03,  1.7059e-03, -4.1638e-04,\n",
            "         1.2536e-03, -2.7100e-05, -1.4403e-03, -8.1057e-05, -1.0143e-03,\n",
            "        -1.0556e-03,  1.0670e-04, -2.2825e-04, -3.1423e-04,  4.9287e-04,\n",
            "         1.4339e-03, -5.8369e-04,  1.9789e-03, -1.3908e-03,  1.9998e-03,\n",
            "         1.4071e-03,  1.9888e-03,  6.4692e-04, -9.7454e-04, -1.1498e-03,\n",
            "         6.9213e-04,  5.4480e-04, -7.5535e-04, -1.3324e-03,  1.4149e-03,\n",
            "         1.3744e-03, -9.9427e-04, -4.0886e-05, -6.3359e-04, -7.6432e-04,\n",
            "        -1.2992e-03,  1.1430e-03, -9.9509e-04, -1.8282e-03,  1.2001e-03],\n",
            "       requires_grad=True) torch.Size([50])\n",
            "Parameter containing:\n",
            "tensor([[-0.0021, -0.1161, -0.1362,  0.0233,  0.0496,  0.0421,  0.0565, -0.1395,\n",
            "         -0.1072, -0.0846,  0.0730,  0.0927, -0.0095,  0.0305,  0.0159, -0.0476,\n",
            "         -0.0357,  0.1055, -0.1229,  0.0044, -0.0371, -0.0942,  0.0826, -0.0383,\n",
            "          0.1356, -0.1057, -0.0508, -0.0930,  0.0118,  0.0535,  0.1229,  0.0813,\n",
            "          0.0736,  0.0300,  0.0765,  0.0078,  0.0173,  0.1243,  0.1170, -0.0271,\n",
            "         -0.1116, -0.0825,  0.0338,  0.0337, -0.0229, -0.0430, -0.0446, -0.1057,\n",
            "          0.0491, -0.0723],\n",
            "        [ 0.1109, -0.0485,  0.0174, -0.0069,  0.1261, -0.1328,  0.0603, -0.0292,\n",
            "          0.0895, -0.0313, -0.1218, -0.0419,  0.0908,  0.0988, -0.1123, -0.1168,\n",
            "         -0.1353,  0.0300,  0.1172, -0.0218,  0.0467,  0.0999, -0.1085,  0.0454,\n",
            "         -0.0366,  0.0176, -0.1186,  0.0707,  0.0174,  0.0187, -0.0735,  0.0981,\n",
            "          0.0380,  0.1010, -0.1000,  0.0622,  0.0507,  0.0944,  0.1131,  0.0629,\n",
            "          0.0765, -0.0241, -0.0693, -0.0396, -0.0767,  0.0553,  0.0425, -0.0625,\n",
            "         -0.1346,  0.1051]], requires_grad=True) torch.Size([2, 50])\n",
            "Parameter containing:\n",
            "tensor([ 0.0060, -0.0663], requires_grad=True) torch.Size([2])\n"
          ],
          "name": "stdout"
        }
      ]
    },
    {
      "metadata": {
        "colab_type": "text",
        "id": "eXZ5oiJz3oRs"
      },
      "cell_type": "markdown",
      "source": [
        "##Task2"
      ]
    },
    {
      "metadata": {
        "id": "AC5vnfLG3s8_",
        "colab_type": "code",
        "colab": {}
      },
      "cell_type": "code",
      "source": [
        "class Model2A(nn.Module):\n",
        "    def __init__(self, vocab_size):\n",
        "        super(Model2A, self).__init__()\n",
        "        self.lin1 = nn.Linear(vocab_size, 10)\n",
        "        self.lin2 = nn.Linear(10, 10)\n",
        "\n",
        "    def forward(self, x): \n",
        "        x = F.softmax(self.lin1(x))\n",
        "        return F.softmax(self.lin2(x))"
      ],
      "execution_count": 0,
      "outputs": []
    },
    {
      "metadata": {
        "id": "uAl-p3ST3svP",
        "colab_type": "code",
        "colab": {}
      },
      "cell_type": "code",
      "source": [
        "class Model2B(nn.Module):\n",
        "    def __init__(self, vocab_size):\n",
        "        super(Model2B, self).__init__()\n",
        "        self.lin1 = nn.Linear(vocab_size, 20)\n",
        "        self.lin2 = nn.Linear(20, 10)\n",
        "\n",
        "    def forward(self, x): \n",
        "        x = F.softmax(self.lin1(x))\n",
        "        return F.softmax(self.lin2(x))"
      ],
      "execution_count": 0,
      "outputs": []
    },
    {
      "metadata": {
        "id": "8gI_C_AC3srz",
        "colab_type": "code",
        "colab": {}
      },
      "cell_type": "code",
      "source": [
        "class Model2C(nn.Module):\n",
        "    def __init__(self, vocab_size):\n",
        "        super(Model2C, self).__init__()\n",
        "        self.lin1 = nn.Linear(vocab_size, 30)\n",
        "        self.lin2 = nn.Linear(30, 30)\n",
        "\n",
        "    def forward(self, x): \n",
        "        x = F.softmax(self.lin1(x))\n",
        "        return F.softmax(self.lin2(x))"
      ],
      "execution_count": 0,
      "outputs": []
    },
    {
      "metadata": {
        "id": "Xeu29fbI3sjd",
        "colab_type": "code",
        "colab": {}
      },
      "cell_type": "code",
      "source": [
        "class Model2D(nn.Module):\n",
        "    def __init__(self, vocab_size):\n",
        "        super(Model2D, self).__init__()\n",
        "        self.lin1 = nn.Linear(vocab_size, 50)\n",
        "        self.lin2 = nn.Linear(50, 50)\n",
        "\n",
        "    def forward(self, x): \n",
        "        x = F.softmax(self.lin1(x))\n",
        "        return F.softmax(self.lin2(x))"
      ],
      "execution_count": 0,
      "outputs": []
    },
    {
      "metadata": {
        "id": "gWWVSG8z4rnI",
        "colab_type": "code",
        "colab": {}
      },
      "cell_type": "code",
      "source": [
        "class Model2E(nn.Module):\n",
        "    def __init__(self, vocab_size):\n",
        "        super(Model2E, self).__init__()\n",
        "        self.lin1 = nn.Linear(vocab_size, 100)\n",
        "        self.lin2 = nn.Linear(100, 50)\n",
        "\n",
        "    def forward(self, x): \n",
        "        x = F.softmax(self.lin1(x))\n",
        "        return F.softmax(self.lin2(x))"
      ],
      "execution_count": 0,
      "outputs": []
    },
    {
      "metadata": {
        "colab_type": "text",
        "id": "gcyPaqzo42Ea"
      },
      "cell_type": "markdown",
      "source": [
        "##Task3"
      ]
    },
    {
      "metadata": {
        "colab_type": "code",
        "id": "Kire3o2W42Ed",
        "colab": {}
      },
      "cell_type": "code",
      "source": [
        "class Model3A(nn.Module):\n",
        "    def __init__(self, vocab_size):\n",
        "        super(Model3A, self).__init__()\n",
        "        self.lin1 = nn.Linear(vocab_size, 100)\n",
        "        self.lin2 = nn.Linear(100, 50)\n",
        "        self.lin3 = nn.Linear(50, 10)\n",
        "\n",
        "    def forward(self, x): \n",
        "        x = F.softmax(self.lin1(x))\n",
        "        x = F.softmax(self.lin2(x))\n",
        "        return F.softmax(self.lin3(x))"
      ],
      "execution_count": 0,
      "outputs": []
    },
    {
      "metadata": {
        "colab_type": "code",
        "id": "hPQL-96z42Eq",
        "colab": {}
      },
      "cell_type": "code",
      "source": [
        "class Model3B(nn.Module):\n",
        "    def __init__(self, vocab_size):\n",
        "        super(Model3B, self).__init__()\n",
        "        self.lin1 = nn.Linear(vocab_size, 200)\n",
        "        self.lin2 = nn.Linear(200, 100)\n",
        "        self.lin3 = nn.Linear(100, 10)\n",
        "\n",
        "    def forward(self, x): \n",
        "        x = F.softmax(self.lin1(x))\n",
        "        x = F.softmax(self.lin2(x))\n",
        "        return F.softmax(self.lin3(x))"
      ],
      "execution_count": 0,
      "outputs": []
    },
    {
      "metadata": {
        "colab_type": "text",
        "id": "pGje3Qmb53SB"
      },
      "cell_type": "markdown",
      "source": [
        "##Task4"
      ]
    },
    {
      "metadata": {
        "colab_type": "code",
        "id": "1q9dRGoH53SF",
        "colab": {}
      },
      "cell_type": "code",
      "source": [
        "class Model4A(nn.Module):\n",
        "    def __init__(self, vocab_size):\n",
        "        super(Model4A, self).__init__()\n",
        "        self.lin1 = nn.Linear(vocab_size, 30)\n",
        "        self.lin2 = nn.Linear(30, 20)\n",
        "        self.drop_layer = nn.Dropout(p=p)\n",
        "        self.lin3 = nn.Linear(20, 10)\n",
        "\n",
        "    def forward(self, x): \n",
        "        x = F.softmax(self.lin1(x))\n",
        "        x = F.softmax(self.lin2(x))\n",
        "        x = self.drop_layer(x)\n",
        "        return F.softmax(self.lin3(x))"
      ],
      "execution_count": 0,
      "outputs": []
    },
    {
      "metadata": {
        "colab_type": "code",
        "id": "Cxk52Poe53SN",
        "colab": {}
      },
      "cell_type": "code",
      "source": [
        "class Model4B(nn.Module):\n",
        "    def __init__(self, vocab_size):\n",
        "        super(Model4B, self).__init__()\n",
        "        self.lin1 = nn.Linear(vocab_size, 100)\n",
        "        self.drop_layer = nn.Dropout(p=p)\n",
        "        self.lin2 = nn.Linear(100, 100)\n",
        "\n",
        "    def forward(self, x): \n",
        "        x = F.softmax(self.lin1(x))\n",
        "        x = self.drop_layer(x)\n",
        "        return F.softmax(self.lin2(x))"
      ],
      "execution_count": 0,
      "outputs": []
    },
    {
      "metadata": {
        "id": "e7f8iUrh6K5Y",
        "colab_type": "code",
        "colab": {}
      },
      "cell_type": "code",
      "source": [
        "class Model4C(nn.Module):\n",
        "    def __init__(self, vocab_size):\n",
        "        super(Model4C, self).__init__()\n",
        "        self.lin1 = nn.Linear(vocab_size, 100)\n",
        "        self.drop_layer = nn.Dropout(p=p)\n",
        "        self.lin2 = nn.Linear(100, 10)\n",
        "\n",
        "    def forward(self, x): \n",
        "        x = F.softmax(self.lin1(x))\n",
        "        x = self.drop_layer(x)\n",
        "        return F.softmax(self.lin2(x))"
      ],
      "execution_count": 0,
      "outputs": []
    },
    {
      "metadata": {
        "id": "g_P3kpbn6CkV",
        "colab_type": "text"
      },
      "cell_type": "markdown",
      "source": [
        "##Task5"
      ]
    },
    {
      "metadata": {
        "id": "WyuNEDLy6F-c",
        "colab_type": "code",
        "colab": {}
      },
      "cell_type": "code",
      "source": [
        "class Model5A(nn.Module):\n",
        "    def __init__(self, vocab_size):\n",
        "        super(Model5A, self).__init__()\n",
        "        self.lin1 = nn.Linear(vocab_size, 30)\n",
        "        self.lin2 = nn.Linear(30, 20)\n",
        "        self.drop_layer = nn.Dropout(p=p)\n",
        "        self.lin3 = nn.Linear(20, 10)\n",
        "\n",
        "    def forward(self, x): \n",
        "        x = F.relu(self.lin1(x))\n",
        "        x = F.relu(self.lin2(x))\n",
        "        x = self.drop_layer(x)\n",
        "        return F.softmax(self.lin3(x))"
      ],
      "execution_count": 0,
      "outputs": []
    },
    {
      "metadata": {
        "id": "8jvAMDPl6IDX",
        "colab_type": "code",
        "colab": {}
      },
      "cell_type": "code",
      "source": [
        "class Model5B(nn.Module):\n",
        "    def __init__(self, vocab_size):\n",
        "        super(Model5B, self).__init__()\n",
        "        self.lin1 = nn.Linear(vocab_size, 30)\n",
        "        self.lin2 = nn.Linear(30, 20)\n",
        "        self.drop_layer = nn.Dropout(p=p)\n",
        "        self.lin3 = nn.Linear(20, 10)\n",
        "\n",
        "    def forward(self, x): \n",
        "        x = F.t(self.lin1(x))\n",
        "        x = F.relu(self.lin2(x))\n",
        "        x = self.drop_layer(x)\n",
        "        return F.softmax(self.lin3(x))"
      ],
      "execution_count": 0,
      "outputs": []
    },
    {
      "metadata": {
        "id": "kdBYZH5C6H-X",
        "colab_type": "code",
        "colab": {}
      },
      "cell_type": "code",
      "source": [
        ""
      ],
      "execution_count": 0,
      "outputs": []
    },
    {
      "metadata": {
        "id": "9q06ioWi6H4Y",
        "colab_type": "code",
        "colab": {}
      },
      "cell_type": "code",
      "source": [
        ""
      ],
      "execution_count": 0,
      "outputs": []
    },
    {
      "metadata": {
        "id": "KUigOUZZ6Hwc",
        "colab_type": "code",
        "colab": {}
      },
      "cell_type": "code",
      "source": [
        ""
      ],
      "execution_count": 0,
      "outputs": []
    },
    {
      "metadata": {
        "id": "kMIoCKTv2oJC",
        "colab_type": "text"
      },
      "cell_type": "markdown",
      "source": [
        "## Run code"
      ]
    },
    {
      "metadata": {
        "colab_type": "code",
        "id": "SWNifAEh42FG",
        "colab": {}
      },
      "cell_type": "code",
      "source": [
        "# define a loss function and an optimizer\n",
        "loss_function = nn.NLLLoss()\n",
        "opt = torch.optim.SGD(model1A.parameters(), lr = 0.001)"
      ],
      "execution_count": 0,
      "outputs": []
    },
    {
      "metadata": {
        "colab_type": "code",
        "id": "7wPIJAKM42FL",
        "colab": {}
      },
      "cell_type": "code",
      "source": [
        "def train(model):\n",
        "    # the training loop\n",
        "    for epoch in range(2):\n",
        "        tic = time.time()\n",
        "        for instance, label in data_test:\n",
        "            # get the training data\n",
        "            model.zero_grad()\n",
        "            bow_vec = Variable(make_bow_vector(instance, word_to_ix))\n",
        "            label = make_target(label)\n",
        "            probs = model(bow_vec) # forward pass\n",
        "            loss = loss_function(probs, label)\n",
        "            loss.backward()\n",
        "            opt.step()\n",
        "        toc = time.time()\n",
        "        print('EPOCH: {}, CURRENT LOSS: {}, TIME TAKEN: {}'.format(epoch, loss.data, (toc-tic)))\n"
      ],
      "execution_count": 0,
      "outputs": []
    },
    {
      "metadata": {
        "colab_type": "code",
        "id": "--MMxg1r42FR",
        "outputId": "d1a00046-4945-4675-988f-c2c9797be71c",
        "colab": {
          "base_uri": "https://localhost:8080/",
          "height": 138
        }
      },
      "cell_type": "code",
      "source": [
        "train(model1A)"
      ],
      "execution_count": 0,
      "outputs": [
        {
          "output_type": "stream",
          "text": [
            "/usr/local/lib/python3.6/dist-packages/torch/nn/functional.py:1332: UserWarning: nn.functional.sigmoid is deprecated. Use torch.sigmoid instead.\n",
            "  warnings.warn(\"nn.functional.sigmoid is deprecated. Use torch.sigmoid instead.\")\n",
            "/usr/local/lib/python3.6/dist-packages/ipykernel_launcher.py:9: UserWarning: Implicit dimension choice for softmax has been deprecated. Change the call to include dim=X as an argument.\n",
            "  if __name__ == '__main__':\n"
          ],
          "name": "stderr"
        },
        {
          "output_type": "stream",
          "text": [
            "EPOCH: 0, CURRENT LOSS: -0.4067547023296356, TIME TAKEN: 306.377108335495\n",
            "EPOCH: 1, CURRENT LOSS: -0.4067547023296356, TIME TAKEN: 612.4105689525604\n"
          ],
          "name": "stdout"
        }
      ]
    },
    {
      "metadata": {
        "colab_type": "code",
        "id": "ovWIpc5K42Ff",
        "colab": {}
      },
      "cell_type": "code",
      "source": [
        "def validate(model):\n",
        "    for instance, label in data_test:\n",
        "        bow_vec = Variable(make_bow_vector(instance, word_to_ix))\n",
        "        logprobs = model(bow_vec)\n",
        "        #print(logprobs)\n",
        "        pred = np.argmax(logprobs.data.numpy())\n",
        "        print('prediction: {}'.format(pred))\n",
        "        print('actual: {}'.format(label))"
      ],
      "execution_count": 0,
      "outputs": []
    },
    {
      "metadata": {
        "id": "uZpqSk7IAc9u",
        "colab_type": "code",
        "colab": {}
      },
      "cell_type": "code",
      "source": [
        "validate(model1A)"
      ],
      "execution_count": 0,
      "outputs": []
    },
    {
      "metadata": {
        "id": "6VKMUtefERSB",
        "colab_type": "code",
        "colab": {}
      },
      "cell_type": "code",
      "source": [
        "torch.save(model1A, 'model1A.mdl')"
      ],
      "execution_count": 0,
      "outputs": []
    },
    {
      "metadata": {
        "id": "ZDP0j9klAf9z",
        "colab_type": "code",
        "colab": {}
      },
      "cell_type": "code",
      "source": [
        "mdl_1a = torch.load('model1A.mdl')"
      ],
      "execution_count": 0,
      "outputs": []
    },
    {
      "metadata": {
        "id": "A0ZU0noHFDSK",
        "colab_type": "code",
        "colab": {}
      },
      "cell_type": "code",
      "source": [
        "validate(mdl_1a)"
      ],
      "execution_count": 0,
      "outputs": []
    }
  ]
}